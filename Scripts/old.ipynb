{
 "cells": [
  {
   "cell_type": "code",
   "execution_count": 5,
   "metadata": {},
   "outputs": [
    {
     "name": "stdout",
     "output_type": "stream",
     "text": [
      "[(0, 199), (1, 198), (2, 197), (3, 196), (4, 195), (5, 194), (6, 193), (7, 192), (8, 191), (9, 190), (10, 189), (11, 188), (12, 187), (13, 186), (14, 185), (15, 184), (16, 183), (17, 182), (18, 181), (19, 180), (20, 179), (21, 178), (22, 177), (23, 176), (24, 175), (25, 174), (26, 173), (27, 172), (28, 171), (29, 170), (30, 169), (31, 168), (32, 167), (33, 166), (34, 165), (35, 164), (36, 163), (37, 162), (38, 161), (39, 160), (40, 159), (41, 158), (42, 157), (43, 156), (44, 155), (45, 154), (46, 153), (47, 152), (48, 151), (49, 150), (50, 149), (51, 148), (52, 147), (53, 146), (54, 145), (55, 144), (56, 143), (57, 142), (58, 141), (59, 140), (60, 139), (61, 138), (62, 137), (63, 136), (64, 135), (65, 134), (66, 133), (67, 132), (68, 131), (69, 130), (70, 129), (71, 128), (72, 127), (73, 126), (74, 125), (75, 124), (76, 123), (77, 122), (78, 121), (79, 120), (80, 119), (81, 118), (82, 117), (83, 116), (84, 115), (85, 114), (86, 113), (87, 112), (88, 111), (89, 110), (90, 109), (91, 108), (92, 107), (93, 106), (94, 105), (95, 104), (96, 103), (97, 102), (98, 101), (99, 100)]\n",
      "True\n"
     ]
    }
   ],
   "source": [
    "def avcParentheses(pile1):\n",
    "#regarde si il y a bien un nombre pair de parenth�ses\n",
    "    if len(pile1)%2 !=0:\n",
    "        return False\n",
    "\n",
    "    for i in range(len(pile1)):\n",
    "#regarde si la chaine de caract�res est constitu�e QUE des parenth�ses\n",
    "        if pile1[i] != '(' and pile1[i] != ')':\n",
    "            print('La chaine de caract�res doit contenir seulement des parenth�ses')\n",
    "            return False\n",
    "#regarde si la liste commence bien par une parenth�se ouverte\n",
    "        elif pile1[0]==')':\n",
    "            return False\n",
    "\n",
    "#copie la pile dans une autre pile\n",
    "    pile_copy=list(pile1)\n",
    "\n",
    "#copie des indices de chaque parenth�ses dans une pile\n",
    "    liste_ints=[]\n",
    "    for i in range(len(pile1)):\n",
    "        liste_ints.append(i)\n",
    "\n",
    "#s�pare la pile pour v�rifier les couples de parenth�ses\n",
    "    while len(pile_copy)!=0:\n",
    "\n",
    "#v�rifie que la partie de la pile commence bien par une parenth�se ouvrante\n",
    "        if pile_copy[0]==')':\n",
    "            return False\n",
    "\n",
    "#cherche le nombre de parenth�ses ouvrantes � arriver\n",
    "        i=0\n",
    "        while pile_copy[i] == '(':\n",
    "            i=i+1\n",
    "\n",
    "#d�finition la partie de la pile copi�e\n",
    "        pile_cut=[]\n",
    "        for k in range(2*i):\n",
    "            pile_cut += pile_copy[k]\n",
    "\n",
    "#enregistre les indices des parenth�ses associ�es\n",
    "        for j in range(i, 0, -1):\n",
    "            if pile_cut[i+j-1]==')':\n",
    "                Coord.append((liste_ints[i-j],liste_ints[i+j-1]))\n",
    "            else:\n",
    "                return False\n",
    "\n",
    "#retire la partie de la pile d�j� utilis�e\n",
    "        for i in range(len(pile_cut)):\n",
    "            pile_copy.pop(0)\n",
    "            liste_ints.pop(0)\n",
    "\n",
    "#r�sultat\n",
    "    print(Coord)\n",
    "    return True\n",
    "\n",
    "Coord=[]\n",
    "print(avcParentheses(\"(\" * 100 + \")\" * 100))\n",
    "\n",
    "\n"
   ]
  }
 ],
 "metadata": {
  "kernelspec": {
   "display_name": "Python 3.10.4 64-bit",
   "language": "python",
   "name": "python3"
  },
  "language_info": {
   "codemirror_mode": {
    "name": "ipython",
    "version": 3
   },
   "file_extension": ".py",
   "mimetype": "text/x-python",
   "name": "python",
   "nbconvert_exporter": "python",
   "pygments_lexer": "ipython3",
   "version": "3.10.4"
  },
  "orig_nbformat": 4,
  "vscode": {
   "interpreter": {
    "hash": "39390d73c1900cddafc4860a1d2a5210e5a4c6a1095e934c85dd446ea72e5f39"
   }
  }
 },
 "nbformat": 4,
 "nbformat_minor": 2
}
