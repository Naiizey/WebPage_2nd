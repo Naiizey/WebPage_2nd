{
 "cells": [
  {
   "cell_type": "code",
   "execution_count": 6,
   "metadata": {},
   "outputs": [
    {
     "name": "stdout",
     "output_type": "stream",
     "text": [
      "[[30, 31], [29, 32], [28, 33], [27, 34], [26, 35], [50, 51], [49, 52], [48, 53], [47, 54], [46, 55], [45, 56], [44, 57], [43, 58], [42, 59], [41, 60], [40, 61], [39, 62], [38, 63], [37, 64], [36, 65], [25, 66], [24, 67], [23, 68], [22, 69], [21, 70], [20, 71], [19, 72], [18, 73], [17, 74], [16, 75], [15, 76], [14, 77], [13, 78], [12, 79], [11, 80], [10, 81], [9, 82], [8, 83], [7, 84], [6, 85], [5, 86], [4, 87], [3, 88], [2, 89], [1, 90]]\n"
     ]
    }
   ],
   "source": [
    "def avcParentheses(pile):\n",
    "    tmp = []\n",
    "    result = []\n",
    "\n",
    "    if pile.count(\"(\") != pile.count(\")\"):\n",
    "        print(\"La chaîne n'est pas équilibrée\")\n",
    "        return False\n",
    "\n",
    "    for i in range(len(pile)):\n",
    "        if pile[i] != \"(\" and pile[i] != \")\":\n",
    "            print(\"La chaîne doit contenir uniquement des parenthèses\")\n",
    "            return False\n",
    "        elif pile[0] == \")\":\n",
    "            print(\"La chaîne ne peut pas commencer par une parenthèse fermante\")\n",
    "            return False\n",
    "\n",
    "    for i in range(len(pile)):\n",
    "        if pile[i] == \"(\":\n",
    "            tmp.append(i)\n",
    "        else:\n",
    "            result.append([tmp[-1]+1,i+1])\n",
    "            tmp.pop()\n",
    "\n",
    "    return result\n",
    "\n",
    "print(avcParentheses(\"(\" * 30 + \")\" * 5 + \"(\" * 15 + \")\" * 40))"
   ]
  }
 ],
 "metadata": {
  "kernelspec": {
   "display_name": "Python 3.10.4 64-bit",
   "language": "python",
   "name": "python3"
  },
  "language_info": {
   "codemirror_mode": {
    "name": "ipython",
    "version": 3
   },
   "file_extension": ".py",
   "mimetype": "text/x-python",
   "name": "python",
   "nbconvert_exporter": "python",
   "pygments_lexer": "ipython3",
   "version": "3.10.4"
  },
  "orig_nbformat": 4,
  "vscode": {
   "interpreter": {
    "hash": "39390d73c1900cddafc4860a1d2a5210e5a4c6a1095e934c85dd446ea72e5f39"
   }
  }
 },
 "nbformat": 4,
 "nbformat_minor": 2
}
